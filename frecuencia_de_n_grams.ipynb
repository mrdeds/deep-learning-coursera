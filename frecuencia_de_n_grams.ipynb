{
  "nbformat": 4,
  "nbformat_minor": 0,
  "metadata": {
    "colab": {
      "name": "frecuencia de n-grams.ipynb",
      "version": "0.3.2",
      "provenance": [],
      "collapsed_sections": []
    },
    "kernelspec": {
      "name": "python3",
      "display_name": "Python 3"
    },
    "accelerator": "GPU"
  },
  "cells": [
    {
      "cell_type": "markdown",
      "metadata": {
        "id": "view-in-github",
        "colab_type": "text"
      },
      "source": [
        "[View in Colaboratory](https://colab.research.google.com/github/mrdeds/deep-learning-coursera/blob/master/frecuencia_de_n_grams.ipynb)"
      ]
    },
    {
      "metadata": {
        "id": "po_Wd7uRtYfo",
        "colab_type": "code",
        "colab": {
          "base_uri": "https://localhost:8080/",
          "height": 51
        },
        "outputId": "d22e47c5-4592-41fe-f0b0-b9d288e6e2b8"
      },
      "cell_type": "code",
      "source": [
        "!pip install psycopg2\n",
        "!pip install stop_words"
      ],
      "execution_count": 64,
      "outputs": [
        {
          "output_type": "stream",
          "text": [
            "Requirement already satisfied: psycopg2 in /usr/local/lib/python3.6/dist-packages (2.7.4)\n",
            "Requirement already satisfied: stop_words in /usr/local/lib/python3.6/dist-packages (2015.2.23.1)\n"
          ],
          "name": "stdout"
        }
      ]
    },
    {
      "metadata": {
        "id": "aEBc4YqUtk7b",
        "colab_type": "code",
        "colab": {}
      },
      "cell_type": "code",
      "source": [
        "import psycopg2\n",
        "import pandas as pd\n",
        "import json\n",
        "from nltk import everygrams, FreqDist\n",
        "from nltk.tokenize import RegexpTokenizer\n",
        "import numpy as np"
      ],
      "execution_count": 0,
      "outputs": []
    },
    {
      "metadata": {
        "id": "fNeCfSjFWNpP",
        "colab_type": "code",
        "colab": {
          "resources": {
            "http://localhost:8080/nbextensions/google.colab/files.js": {
              "data": "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",
              "ok": true,
              "headers": [
                [
                  "content-type",
                  "application/javascript"
                ]
              ],
              "status": 200,
              "status_text": ""
            }
          },
          "base_uri": "https://localhost:8080/",
          "height": 86
        },
        "outputId": "90c064fa-c079-409c-df56-a1e9c45d8f75"
      },
      "cell_type": "code",
      "source": [
        "from google.colab import files\n",
        "\n",
        "uploaded = files.upload()\n",
        "\n",
        "for fn in uploaded.keys():\n",
        "  print('User uploaded file \"{name}\" with length {length} bytes'.format(\n",
        "      name=fn, length=len(uploaded[fn])))"
      ],
      "execution_count": 284,
      "outputs": [
        {
          "output_type": "display_data",
          "data": {
            "text/html": [
              "\n",
              "     <input type=\"file\" id=\"files-f414faeb-0fb5-4f65-8764-3af87f27995b\" name=\"files[]\" multiple disabled />\n",
              "     <output id=\"result-f414faeb-0fb5-4f65-8764-3af87f27995b\">\n",
              "      Upload widget is only available when the cell has been executed in the\n",
              "      current browser session. Please rerun this cell to enable.\n",
              "      </output>\n",
              "      <script src=\"/nbextensions/google.colab/files.js\"></script> "
            ],
            "text/plain": [
              "<IPython.core.display.HTML object>"
            ]
          },
          "metadata": {
            "tags": []
          }
        },
        {
          "output_type": "stream",
          "text": [
            "Saving creds_data.json to creds_data (2).json\n",
            "User uploaded file \"creds_data.json\" with length 273 bytes\n"
          ],
          "name": "stdout"
        }
      ]
    },
    {
      "metadata": {
        "id": "6wA01xSGYqz4",
        "colab_type": "code",
        "colab": {
          "base_uri": "https://localhost:8080/",
          "height": 181
        },
        "outputId": "fb8e7f65-d96d-4f7a-cb65-81087973af44"
      },
      "cell_type": "code",
      "source": [
        "creds = uploaded.get('creds_data.json')\n",
        "dic_creds = json.loads(creds.decode())"
      ],
      "execution_count": 67,
      "outputs": [
        {
          "output_type": "error",
          "ename": "AttributeError",
          "evalue": "ignored",
          "traceback": [
            "\u001b[0;31m---------------------------------------------------------------------------\u001b[0m",
            "\u001b[0;31mAttributeError\u001b[0m                            Traceback (most recent call last)",
            "\u001b[0;32m<ipython-input-67-ca93b8a1cee1>\u001b[0m in \u001b[0;36m<module>\u001b[0;34m()\u001b[0m\n\u001b[1;32m      1\u001b[0m \u001b[0mcreds\u001b[0m \u001b[0;34m=\u001b[0m \u001b[0muploaded\u001b[0m\u001b[0;34m.\u001b[0m\u001b[0mget\u001b[0m\u001b[0;34m(\u001b[0m\u001b[0;34m'creds_data.json'\u001b[0m\u001b[0;34m)\u001b[0m\u001b[0;34m\u001b[0m\u001b[0m\n\u001b[0;32m----> 2\u001b[0;31m \u001b[0mdic_creds\u001b[0m \u001b[0;34m=\u001b[0m \u001b[0mjson\u001b[0m\u001b[0;34m.\u001b[0m\u001b[0mloads\u001b[0m\u001b[0;34m(\u001b[0m\u001b[0mcreds\u001b[0m\u001b[0;34m.\u001b[0m\u001b[0mdecode\u001b[0m\u001b[0;34m(\u001b[0m\u001b[0;34m)\u001b[0m\u001b[0;34m)\u001b[0m\u001b[0;34m\u001b[0m\u001b[0m\n\u001b[0m",
            "\u001b[0;31mAttributeError\u001b[0m: 'NoneType' object has no attribute 'decode'"
          ]
        }
      ]
    },
    {
      "metadata": {
        "id": "eUJsHD1tuuIO",
        "colab_type": "code",
        "colab": {}
      },
      "cell_type": "code",
      "source": [
        "host_check=fn\n",
        "\n",
        "host_wh=dic_creds.get('host_wh')\n",
        "port_wh=dic_creds.get('port_wh')\n",
        "user_wh=dic_creds.get('user_wh')\n",
        "password_wh=dic_creds.get('password_wh')\n",
        "database_wh=dic_creds.get('database_wh')\n",
        "\n",
        "host_l=dic_creds.get('host_l')\n",
        "port_l=dic_creds.get('port_l')\n",
        "user_l=dic_creds.get('user_l')\n",
        "password_l=dic_creds.get('password_l')\n",
        "database_l=dic_creds.get('database_l')"
      ],
      "execution_count": 0,
      "outputs": []
    },
    {
      "metadata": {
        "id": "cywEOa4Ow5VI",
        "colab_type": "code",
        "colab": {}
      },
      "cell_type": "code",
      "source": [
        "def sql_to_dataframe(query, base='wh'):\n",
        "  if base=='wh':\n",
        "    conn = psycopg2.connect(host=host_wh, port=port_wh, user=user_wh, password=password_wh, database=database_wh,)\n",
        "  elif base=='llamadas':\n",
        "    conn = psycopg2.connect(host=host_l, port=port_l, user=user_l, password=password_l, database=database_l,)\n",
        "  try:\n",
        "    cursor = conn.cursor()\n",
        "    cursor.execute(query)\n",
        "    DataSQL = cursor.fetchall() # careful, the results could be huge\n",
        "    conn.commit()\n",
        "  finally:\n",
        "    conn.close()\n",
        "  \n",
        "  colnames = [desc[0] for desc in cursor.description]\n",
        "  DF = pd.DataFrame(DataSQL) # Ponemos datos en DataFrame\n",
        "  DF.columns = colnames # Asignamos nombres a las columnas\n",
        "  \n",
        "  return DF"
      ],
      "execution_count": 0,
      "outputs": []
    },
    {
      "metadata": {
        "id": "6vL07p62I9jB",
        "colab_type": "code",
        "colab": {}
      },
      "cell_type": "code",
      "source": [
        "query = \"SELECT rh.id AS \\\"ID RH\\\",\\\n",
        "    rh.name AS \\\"Nombre del RH\\\",\\\n",
        "    rh.numeroextension__c AS \\\"Número de extensión\\\",\\\n",
        "    RIGHT(lead.phone,8) AS \\\"phone\\\",\\\n",
        "    lead.id AS \\\"ID Lead\\\",\\\n",
        "    lead.rating as \\\"Calificación\\\"\\\n",
        "    FROM rh_all_recursoshumanos__c AS rh\\\n",
        "    JOIN salesforce_lead AS lead ON rh.ID=lead.vendedorasignado__c\\\n",
        "    WHERE rh.name not in ('Agente de Preventa','ARD Virtual') and phone not in ('','None')\\\n",
        "    GROUP BY rh.name, rh.id, lead.phone, rh.numeroextension__c, lead.id, lead.rating\\\n",
        "    ORDER BY rh.id ASC,\\\n",
        "    rh.numeroextension__c ASC\"\n",
        "\n",
        "salesforce_DF = sql_to_dataframe(query)"
      ],
      "execution_count": 0,
      "outputs": []
    },
    {
      "metadata": {
        "id": "AHEwPNyIK7cp",
        "colab_type": "code",
        "colab": {
          "base_uri": "https://localhost:8080/",
          "height": 34
        },
        "outputId": "9f2f26fa-53b0-4f28-cb6e-09a071f4d472"
      },
      "cell_type": "code",
      "source": [
        "salesforce_DF.head(10)\n",
        "len(salesforce_DF)"
      ],
      "execution_count": 0,
      "outputs": [
        {
          "output_type": "execute_result",
          "data": {
            "text/plain": [
              "219680"
            ]
          },
          "metadata": {
            "tags": []
          },
          "execution_count": 15
        }
      ]
    },
    {
      "metadata": {
        "id": "8ua88aBddDSE",
        "colab_type": "code",
        "colab": {
          "base_uri": "https://localhost:8080/",
          "height": 34
        },
        "outputId": "7713a719-db2a-4ec3-dcd2-9283132eec33"
      },
      "cell_type": "code",
      "source": [
        "type(salesforce_DF)"
      ],
      "execution_count": 0,
      "outputs": [
        {
          "output_type": "execute_result",
          "data": {
            "text/plain": [
              "pandas.core.frame.DataFrame"
            ]
          },
          "metadata": {
            "tags": []
          },
          "execution_count": 16
        }
      ]
    },
    {
      "metadata": {
        "id": "hejWqiOlJryb",
        "colab_type": "code",
        "colab": {}
      },
      "cell_type": "code",
      "source": [
        "query = \"SELECT rh.id AS \\\"ID RH\\\",\\\n",
        "    rh.name AS \\\"Nombre del RH\\\",\\\n",
        "    rh.numeroextension__c AS \\\"Número de extensión\\\",\\\n",
        "    RIGHT(lead.mobilephone,8) AS \\\"phone\\\",\\\n",
        "    lead.id AS \\\"ID Lead\\\",\\\n",
        "    lead.rating as \\\"Calificación\\\"\\\n",
        "    FROM rh_all_recursoshumanos__c AS rh\\\n",
        "    JOIN salesforce_lead AS lead ON rh.ID=lead.vendedorasignado__c\\\n",
        "    WHERE rh.name not in ('Agente de Preventa','ARD Virtual')\\\n",
        "    and phone not in ('','None')\\\n",
        "    GROUP BY rh.name, rh.id, lead.mobilephone, rh.numeroextension__c, lead.id, lead.rating\\\n",
        "    ORDER BY rh.id ASC,\\\n",
        "    rh.numeroextension__c ASC\"\n",
        "\n",
        "salesforce_mobile_DF = sql_to_dataframe(query)"
      ],
      "execution_count": 0,
      "outputs": []
    },
    {
      "metadata": {
        "id": "U2eBzBleXwCh",
        "colab_type": "code",
        "colab": {
          "base_uri": "https://localhost:8080/",
          "height": 34
        },
        "outputId": "fd944950-3ac1-4e6b-a853-b96adfa6ab85"
      },
      "cell_type": "code",
      "source": [
        "len(salesforce_mobile_DF)"
      ],
      "execution_count": 0,
      "outputs": [
        {
          "output_type": "execute_result",
          "data": {
            "text/plain": [
              "219680"
            ]
          },
          "metadata": {
            "tags": []
          },
          "execution_count": 18
        }
      ]
    },
    {
      "metadata": {
        "id": "JxAbFJVwLeqT",
        "colab_type": "code",
        "colab": {}
      },
      "cell_type": "code",
      "source": [
        "query_llamadas = \"SELECT id as \\\"id de llamada\\\",\\\n",
        "texto,\\\n",
        "llama AS extension,\\\n",
        "RIGHT(recibe,8) as \\\"phone\\\" \\\n",
        "FROM llamadas \\\n",
        "where texto != '' \\\n",
        "and llama::float BETWEEN 1470  and 1900\\\n",
        "GROUP BY id, texto, llama, recibe \\\n",
        "ORDER BY id asc, texto, llama, recibe\"\n",
        "\n",
        "llamadas_DF = sql_to_dataframe(query_llamadas, base=\"llamadas\")"
      ],
      "execution_count": 0,
      "outputs": []
    },
    {
      "metadata": {
        "id": "M1-fTVuCgEaM",
        "colab_type": "code",
        "colab": {
          "base_uri": "https://localhost:8080/",
          "height": 34
        },
        "outputId": "a5953faf-06bc-41f3-bfc1-5891550f4fe0"
      },
      "cell_type": "code",
      "source": [
        "llamadas_DF.head(10)\n",
        "len(llamadas_DF.index)"
      ],
      "execution_count": 128,
      "outputs": [
        {
          "output_type": "execute_result",
          "data": {
            "text/plain": [
              "18222"
            ]
          },
          "metadata": {
            "tags": []
          },
          "execution_count": 128
        }
      ]
    },
    {
      "metadata": {
        "id": "m33uhnUNiFYy",
        "colab_type": "code",
        "colab": {}
      },
      "cell_type": "code",
      "source": [
        "DF_fijo = pd.merge(salesforce_DF,llamadas_DF, on='phone')"
      ],
      "execution_count": 0,
      "outputs": []
    },
    {
      "metadata": {
        "id": "J8HesZNRLy4c",
        "colab_type": "code",
        "colab": {}
      },
      "cell_type": "code",
      "source": [
        "DF_mobile = pd.merge(salesforce_mobile_DF, llamadas_DF, on='phone')"
      ],
      "execution_count": 0,
      "outputs": []
    },
    {
      "metadata": {
        "id": "d24ecqYZMDcE",
        "colab_type": "code",
        "colab": {}
      },
      "cell_type": "code",
      "source": [
        "DF = pd.concat([DF_mobile, DF_fijo])"
      ],
      "execution_count": 0,
      "outputs": []
    },
    {
      "metadata": {
        "id": "WbeWzoAfXO0C",
        "colab_type": "code",
        "colab": {
          "base_uri": "https://localhost:8080/",
          "height": 34
        },
        "outputId": "1bfcbcc8-5e6b-44a8-ef16-8f979c5f0e11"
      },
      "cell_type": "code",
      "source": [
        "len(DF)"
      ],
      "execution_count": 132,
      "outputs": [
        {
          "output_type": "execute_result",
          "data": {
            "text/plain": [
              "6310"
            ]
          },
          "metadata": {
            "tags": []
          },
          "execution_count": 132
        }
      ]
    },
    {
      "metadata": {
        "id": "pXQXXLJZoQiD",
        "colab_type": "code",
        "colab": {}
      },
      "cell_type": "code",
      "source": [
        "Cerrados = DF.loc[DF['calificación'] == 'Cerrado']\n",
        "Cerrados_fijo = DF_fijo.loc[DF_fijo['calificación'] == 'Cerrado']\n",
        "Cerrados_mobile = DF_mobile.loc[DF_mobile['calificación'] == 'Cerrado']"
      ],
      "execution_count": 0,
      "outputs": []
    },
    {
      "metadata": {
        "id": "pUM4YH-uFRwy",
        "colab_type": "code",
        "colab": {
          "base_uri": "https://localhost:8080/",
          "height": 85
        },
        "outputId": "48ee99d0-a351-4320-995b-39fc64b03d8e"
      },
      "cell_type": "code",
      "source": [
        "ratio = len(Cerrados)/len(DF)\n",
        "ratio_fijo = len(Cerrados_fijo)/len(DF_fijo)\n",
        "ratio_mobile = len(Cerrados_mobile)/len(DF_mobile)\n",
        "\n",
        "print('ratio de cerrados a no cerrados total: {}'.format(ratio))\n",
        "print('ratio de cerrados a no cerrados fijo: {}'.format(ratio_fijo))\n",
        "print('ratio de cerrados a no cerrados mobile: {}'.format(ratio_mobile))\n",
        "print('leads totales:{}'.format(len(DF_mobile)))"
      ],
      "execution_count": 134,
      "outputs": [
        {
          "output_type": "stream",
          "text": [
            "ratio de cerrados a no cerrados total: 0.3816164817749604\n",
            "ratio de cerrados a no cerrados fijo: 0.36835926034634575\n",
            "ratio de cerrados a no cerrados mobile: 0.39717533585945575\n",
            "leads totales:2903\n"
          ],
          "name": "stdout"
        }
      ]
    },
    {
      "metadata": {
        "id": "6kWh9e_tLzz7",
        "colab_type": "code",
        "colab": {}
      },
      "cell_type": "code",
      "source": [
        "tokenizer = RegexpTokenizer('[A-zÀ-ÿ]\\w+')\n",
        "textos = DF[\"texto\"]\n",
        "DF[\"tokens\"] = DF[\"texto\"].apply(tokenizer.tokenize)"
      ],
      "execution_count": 0,
      "outputs": []
    },
    {
      "metadata": {
        "id": "pDMQMsYdMdU0",
        "colab_type": "code",
        "colab": {}
      },
      "cell_type": "code",
      "source": [
        "from stop_words import get_stop_words\n",
        "\n",
        "stop_words = get_stop_words('spanish')"
      ],
      "execution_count": 0,
      "outputs": []
    },
    {
      "metadata": {
        "id": "EM43sFGZ5TQ_",
        "colab_type": "code",
        "colab": {}
      },
      "cell_type": "code",
      "source": [
        "X_prev = DF['tokens'].values\n",
        "lista_frase_limpia = []\n",
        "lista_texto_limpio = []\n",
        "for lista in X_prev:\n",
        "    frase_limpia = [palabra for palabra in lista if palabra not in stop_words]\n",
        "    texto_limpio =  ' '.join(frase_limpia)\n",
        "    lista_frase_limpia.append(frase_limpia)\n",
        "\n",
        "    lista_texto_limpio.append(texto_limpio)\n",
        "\n",
        "DF['clean tokens'] = lista_frase_limpia \n",
        "DF['clean text'] = lista_texto_limpio\n"
      ],
      "execution_count": 0,
      "outputs": []
    },
    {
      "metadata": {
        "id": "50RrLXZhIpSG",
        "colab_type": "code",
        "colab": {}
      },
      "cell_type": "code",
      "source": [
        "lista_ngrams = []\n",
        "\n",
        "for textos in DF['clean tokens']:\n",
        "  ngrams = list(everygrams(textos, 4, 6))\n",
        "  lista_ngrams.append(ngrams)"
      ],
      "execution_count": 0,
      "outputs": []
    },
    {
      "metadata": {
        "id": "euXJVTsfT2k1",
        "colab_type": "code",
        "colab": {}
      },
      "cell_type": "code",
      "source": [
        "DF['ngrams'] = lista_ngrams"
      ],
      "execution_count": 0,
      "outputs": []
    },
    {
      "metadata": {
        "id": "WcETruKLcQT-",
        "colab_type": "code",
        "colab": {}
      },
      "cell_type": "code",
      "source": [
        "DF=DF.drop(DF[DF.ngrams.map(len) <= 2].index)"
      ],
      "execution_count": 0,
      "outputs": []
    },
    {
      "metadata": {
        "id": "d1A_RQLdYmQA",
        "colab_type": "code",
        "colab": {}
      },
      "cell_type": "code",
      "source": [
        "n_grams = DF[(DF.calificación == 'Cerrado') & (DF.ngrams != '[]') & (~DF[\"clean text\"].str.contains('mensaje después tono')) ][\"ngrams\"]"
      ],
      "execution_count": 0,
      "outputs": []
    },
    {
      "metadata": {
        "id": "2zD9708xmrZi",
        "colab_type": "code",
        "colab": {}
      },
      "cell_type": "code",
      "source": [
        "todos_ngrams = [ngram for ngrams in n_grams for ngram in ngrams]"
      ],
      "execution_count": 0,
      "outputs": []
    },
    {
      "metadata": {
        "id": "2d6-86b1k6OF",
        "colab_type": "code",
        "colab": {}
      },
      "cell_type": "code",
      "source": [
        "ngrams_nocomunes = [str(i) for i in todos_ngrams if \"\\'buenas\\', \\'tardes\\'\" not in (str(i).lower()) and \"\\'buenos\\', \\'días\\'\" not in (str(i).lower()) and \"\\'bueno\\', \\'bueno\\', \\'bueno\\'\" not in (str(i).lower())\n",
        "                   and \"\\'tecla\\', \\'gato\\'\" not in (str(i).lower()) and \"\\'cómo\\', \\'encuentras\\'\" not in (str(i).lower()) and \"'calidad\\'\" not in (str(i).lower()) and \"\\'cómo\\', \\'encuentras\\'\" not in (str(i).lower())\n",
        "                   and \"\\'cavazos\\'\" not in (str(i).lower()) and \"\\'hola\\', \\'qué\\', \\'tal\\'\" not in (str(i).lower()) and \"\\'encuentran\\', \\'ocupados\\'\" not in (str(i).lower())] "
      ],
      "execution_count": 0,
      "outputs": []
    },
    {
      "metadata": {
        "id": "YCv1Pj70zC_6",
        "colab_type": "code",
        "colab": {}
      },
      "cell_type": "code",
      "source": [
        "from collections import Counter\n",
        "\n",
        "counter = Counter(ngrams_nocomunes)\n",
        "\n",
        "kk = [list(counter.keys()),list(counter.values())]\n",
        "\n",
        "freq_ngrams_nocomunes = pd.DataFrame(np.array(kk).T, columns=['N-Gram','Count']).sort_values(by=['Count'] , ascending=False)"
      ],
      "execution_count": 0,
      "outputs": []
    },
    {
      "metadata": {
        "id": "6s2VthXKrFSX",
        "colab_type": "code",
        "colab": {}
      },
      "cell_type": "code",
      "source": [
        "res = freq_ngrams_nocomunes[freq_ngrams_nocomunes[\"Count\"].astype(int)>20]"
      ],
      "execution_count": 0,
      "outputs": []
    },
    {
      "metadata": {
        "id": "qClwzbA6sjHw",
        "colab_type": "code",
        "colab": {
          "base_uri": "https://localhost:8080/",
          "height": 119
        },
        "outputId": "15cfc7f5-37f1-4775-9798-7226781e1055"
      },
      "cell_type": "code",
      "source": [
        "res[\"Count\"] = res[\"Count\"].astype(int)"
      ],
      "execution_count": 282,
      "outputs": [
        {
          "output_type": "stream",
          "text": [
            "/usr/local/lib/python3.6/dist-packages/ipykernel_launcher.py:1: SettingWithCopyWarning: \n",
            "A value is trying to be set on a copy of a slice from a DataFrame.\n",
            "Try using .loc[row_indexer,col_indexer] = value instead\n",
            "\n",
            "See the caveats in the documentation: http://pandas.pydata.org/pandas-docs/stable/indexing.html#indexing-view-versus-copy\n",
            "  \"\"\"Entry point for launching an IPython kernel.\n"
          ],
          "name": "stderr"
        }
      ]
    },
    {
      "metadata": {
        "id": "aUtPBnQo9_uS",
        "colab_type": "code",
        "colab": {
          "base_uri": "https://localhost:8080/",
          "height": 1969
        },
        "outputId": "9f63e123-341f-4cf0-9b0f-533c1accdb75"
      },
      "cell_type": "code",
      "source": [
        "res.sort_values(by=[\"Count\"], ascending=False)"
      ],
      "execution_count": 283,
      "outputs": [
        {
          "output_type": "execute_result",
          "data": {
            "text/html": [
              "<div>\n",
              "<style scoped>\n",
              "    .dataframe tbody tr th:only-of-type {\n",
              "        vertical-align: middle;\n",
              "    }\n",
              "\n",
              "    .dataframe tbody tr th {\n",
              "        vertical-align: top;\n",
              "    }\n",
              "\n",
              "    .dataframe thead th {\n",
              "        text-align: right;\n",
              "    }\n",
              "</style>\n",
              "<table border=\"1\" class=\"dataframe\">\n",
              "  <thead>\n",
              "    <tr style=\"text-align: right;\">\n",
              "      <th></th>\n",
              "      <th>N-Gram</th>\n",
              "      <th>Count</th>\n",
              "    </tr>\n",
              "  </thead>\n",
              "  <tbody>\n",
              "    <tr>\n",
              "      <th>25284</th>\n",
              "      <td>('sé', 'si', 'alguna', 'duda')</td>\n",
              "      <td>109</td>\n",
              "    </tr>\n",
              "    <tr>\n",
              "      <th>6234</th>\n",
              "      <td>('Comisión', 'Nacional', 'bancaria', 'valores')</td>\n",
              "      <td>90</td>\n",
              "    </tr>\n",
              "    <tr>\n",
              "      <th>1921</th>\n",
              "      <td>('carátula', 'contrato', 'prestación', 'servic...</td>\n",
              "      <td>49</td>\n",
              "    </tr>\n",
              "    <tr>\n",
              "      <th>28162</th>\n",
              "      <td>('nombre', 'completo', 'fecha', 'nacimiento')</td>\n",
              "      <td>48</td>\n",
              "    </tr>\n",
              "    <tr>\n",
              "      <th>110071</th>\n",
              "      <td>('accidente', 'enfermedad', 'pérdida', 'empleo')</td>\n",
              "      <td>46</td>\n",
              "    </tr>\n",
              "    <tr>\n",
              "      <th>110070</th>\n",
              "      <td>('negocio', 'accidente', 'enfermedad', 'pérdida')</td>\n",
              "      <td>43</td>\n",
              "    </tr>\n",
              "    <tr>\n",
              "      <th>8604</th>\n",
              "      <td>('resuelve', 'deuda', 'Cómo', 'bien')</td>\n",
              "      <td>40</td>\n",
              "    </tr>\n",
              "    <tr>\n",
              "      <th>110496</th>\n",
              "      <td>('negocio', 'accidente', 'enfermedad', 'pérdid...</td>\n",
              "      <td>40</td>\n",
              "    </tr>\n",
              "    <tr>\n",
              "      <th>125666</th>\n",
              "      <td>('alguna', 'duda', 'alguna', 'pregunta')</td>\n",
              "      <td>40</td>\n",
              "    </tr>\n",
              "    <tr>\n",
              "      <th>139766</th>\n",
              "      <td>('accidente', 'enfermedad', 'pérdida', 'empleo...</td>\n",
              "      <td>39</td>\n",
              "    </tr>\n",
              "    <tr>\n",
              "      <th>139255</th>\n",
              "      <td>('enfermedad', 'pérdida', 'empleo', 'sobreende...</td>\n",
              "      <td>39</td>\n",
              "    </tr>\n",
              "    <tr>\n",
              "      <th>86740</th>\n",
              "      <td>('generando', 'historial', 'crediticio', 'posi...</td>\n",
              "      <td>38</td>\n",
              "    </tr>\n",
              "    <tr>\n",
              "      <th>86768</th>\n",
              "      <td>('capital', 'depositar', 'cuenta', 'bancaria')</td>\n",
              "      <td>36</td>\n",
              "    </tr>\n",
              "    <tr>\n",
              "      <th>86756</th>\n",
              "      <td>('parte', 'liquidar', 'completo', 'crédito')</td>\n",
              "      <td>36</td>\n",
              "    </tr>\n",
              "    <tr>\n",
              "      <th>86965</th>\n",
              "      <td>('resto', 'capital', 'depositar', 'cuenta', 'b...</td>\n",
              "      <td>34</td>\n",
              "    </tr>\n",
              "    <tr>\n",
              "      <th>803</th>\n",
              "      <td>('llamada', 'puede', 'ser', 'grabada')</td>\n",
              "      <td>34</td>\n",
              "    </tr>\n",
              "    <tr>\n",
              "      <th>86767</th>\n",
              "      <td>('resto', 'capital', 'depositar', 'cuenta')</td>\n",
              "      <td>34</td>\n",
              "    </tr>\n",
              "    <tr>\n",
              "      <th>173363</th>\n",
              "      <td>('quiebra', 'negocio', 'accidente', 'enfermedad')</td>\n",
              "      <td>33</td>\n",
              "    </tr>\n",
              "    <tr>\n",
              "      <th>179104</th>\n",
              "      <td>('negocio', 'accidente', 'enfermedad', 'pérdid...</td>\n",
              "      <td>33</td>\n",
              "    </tr>\n",
              "    <tr>\n",
              "      <th>86769</th>\n",
              "      <td>('depositar', 'cuenta', 'bancaria', 'dispongas')</td>\n",
              "      <td>31</td>\n",
              "    </tr>\n",
              "    <tr>\n",
              "      <th>86953</th>\n",
              "      <td>('tomaría', 'parte', 'liquidar', 'completo', '...</td>\n",
              "      <td>31</td>\n",
              "    </tr>\n",
              "    <tr>\n",
              "      <th>86739</th>\n",
              "      <td>('continúes', 'generando', 'historial', 'credi...</td>\n",
              "      <td>31</td>\n",
              "    </tr>\n",
              "    <tr>\n",
              "      <th>86755</th>\n",
              "      <td>('tomaría', 'parte', 'liquidar', 'completo')</td>\n",
              "      <td>31</td>\n",
              "    </tr>\n",
              "    <tr>\n",
              "      <th>174245</th>\n",
              "      <td>('quiebra', 'negocio', 'accidente', 'enfermeda...</td>\n",
              "      <td>30</td>\n",
              "    </tr>\n",
              "    <tr>\n",
              "      <th>86736</th>\n",
              "      <td>('resuelve', 'deuda', 'buscando', 'continúes')</td>\n",
              "      <td>30</td>\n",
              "    </tr>\n",
              "    <tr>\n",
              "      <th>18365</th>\n",
              "      <td>('voy', 'hacer', 'llegar', 'correo')</td>\n",
              "      <td>29</td>\n",
              "    </tr>\n",
              "    <tr>\n",
              "      <th>87161</th>\n",
              "      <td>('resto', 'capital', 'depositar', 'cuenta', 'b...</td>\n",
              "      <td>29</td>\n",
              "    </tr>\n",
              "    <tr>\n",
              "      <th>86966</th>\n",
              "      <td>('capital', 'depositar', 'cuenta', 'bancaria',...</td>\n",
              "      <td>29</td>\n",
              "    </tr>\n",
              "    <tr>\n",
              "      <th>15931</th>\n",
              "      <td>('voy', 'mandar', 'correo', 'electrónico')</td>\n",
              "      <td>28</td>\n",
              "    </tr>\n",
              "    <tr>\n",
              "      <th>86757</th>\n",
              "      <td>('liquidar', 'completo', 'crédito', 'actual')</td>\n",
              "      <td>28</td>\n",
              "    </tr>\n",
              "    <tr>\n",
              "      <th>...</th>\n",
              "      <td>...</td>\n",
              "      <td>...</td>\n",
              "    </tr>\n",
              "    <tr>\n",
              "      <th>86737</th>\n",
              "      <td>('deuda', 'buscando', 'continúes', 'generando')</td>\n",
              "      <td>24</td>\n",
              "    </tr>\n",
              "    <tr>\n",
              "      <th>296135</th>\n",
              "      <td>('resuelve', 'deuda', 'trabajo', 'realizamos')</td>\n",
              "      <td>24</td>\n",
              "    </tr>\n",
              "    <tr>\n",
              "      <th>18366</th>\n",
              "      <td>('hacer', 'llegar', 'correo', 'electrónico')</td>\n",
              "      <td>24</td>\n",
              "    </tr>\n",
              "    <tr>\n",
              "      <th>809</th>\n",
              "      <td>('Santander', 'momento', 'ejecutivos', 'encuen...</td>\n",
              "      <td>24</td>\n",
              "    </tr>\n",
              "    <tr>\n",
              "      <th>25276</th>\n",
              "      <td>('Cómo', 'Muy', 'bien', 'gracias')</td>\n",
              "      <td>24</td>\n",
              "    </tr>\n",
              "    <tr>\n",
              "      <th>746</th>\n",
              "      <td>('Banco', 'Santander', 'voz', 'Es')</td>\n",
              "      <td>23</td>\n",
              "    </tr>\n",
              "    <tr>\n",
              "      <th>87132</th>\n",
              "      <td>('buscando', 'continúes', 'generando', 'histor...</td>\n",
              "      <td>23</td>\n",
              "    </tr>\n",
              "    <tr>\n",
              "      <th>86934</th>\n",
              "      <td>('resuelve', 'deuda', 'buscando', 'continúes',...</td>\n",
              "      <td>23</td>\n",
              "    </tr>\n",
              "    <tr>\n",
              "      <th>807</th>\n",
              "      <td>('Gracias', 'llamar', 'Santander', 'momento')</td>\n",
              "      <td>23</td>\n",
              "    </tr>\n",
              "    <tr>\n",
              "      <th>808</th>\n",
              "      <td>('llamar', 'Santander', 'momento', 'ejecutivos')</td>\n",
              "      <td>23</td>\n",
              "    </tr>\n",
              "    <tr>\n",
              "      <th>87149</th>\n",
              "      <td>('tomaría', 'parte', 'liquidar', 'completo', '...</td>\n",
              "      <td>23</td>\n",
              "    </tr>\n",
              "    <tr>\n",
              "      <th>814</th>\n",
              "      <td>('continúan', 'ocupados', 'cuanto', 'desocupe')</td>\n",
              "      <td>22</td>\n",
              "    </tr>\n",
              "    <tr>\n",
              "      <th>54674</th>\n",
              "      <td>('usted', 'puede', 'dejar', 'mensaje')</td>\n",
              "      <td>22</td>\n",
              "    </tr>\n",
              "    <tr>\n",
              "      <th>25274</th>\n",
              "      <td>('resuelve', 'deuda', 'Cómo', 'Muy')</td>\n",
              "      <td>22</td>\n",
              "    </tr>\n",
              "    <tr>\n",
              "      <th>87890</th>\n",
              "      <td>('crédito', 'tomaste', 'Eso', 'correcto')</td>\n",
              "      <td>22</td>\n",
              "    </tr>\n",
              "    <tr>\n",
              "      <th>20097</th>\n",
              "      <td>('voy', 'hacer', 'llegar', 'correo', 'electrón...</td>\n",
              "      <td>22</td>\n",
              "    </tr>\n",
              "    <tr>\n",
              "      <th>86935</th>\n",
              "      <td>('deuda', 'buscando', 'continúes', 'generando'...</td>\n",
              "      <td>22</td>\n",
              "    </tr>\n",
              "    <tr>\n",
              "      <th>25474</th>\n",
              "      <td>('resuelve', 'deuda', 'Cómo', 'Muy', 'bien')</td>\n",
              "      <td>22</td>\n",
              "    </tr>\n",
              "    <tr>\n",
              "      <th>87130</th>\n",
              "      <td>('resuelve', 'deuda', 'buscando', 'continúes',...</td>\n",
              "      <td>22</td>\n",
              "    </tr>\n",
              "    <tr>\n",
              "      <th>25275</th>\n",
              "      <td>('deuda', 'Cómo', 'Muy', 'bien')</td>\n",
              "      <td>22</td>\n",
              "    </tr>\n",
              "    <tr>\n",
              "      <th>125665</th>\n",
              "      <td>('si', 'alguna', 'duda', 'alguna')</td>\n",
              "      <td>21</td>\n",
              "    </tr>\n",
              "    <tr>\n",
              "      <th>94763</th>\n",
              "      <td>('últimos', 'dígitos', 'límite', 'crédito')</td>\n",
              "      <td>21</td>\n",
              "    </tr>\n",
              "    <tr>\n",
              "      <th>1242</th>\n",
              "      <td>('llamar', 'Santander', 'momento', 'ejecutivos...</td>\n",
              "      <td>21</td>\n",
              "    </tr>\n",
              "    <tr>\n",
              "      <th>1241</th>\n",
              "      <td>('Gracias', 'llamar', 'Santander', 'momento', ...</td>\n",
              "      <td>21</td>\n",
              "    </tr>\n",
              "    <tr>\n",
              "      <th>76080</th>\n",
              "      <td>('conoce', 'número', 'extensión', 'márcalo')</td>\n",
              "      <td>21</td>\n",
              "    </tr>\n",
              "    <tr>\n",
              "      <th>87131</th>\n",
              "      <td>('deuda', 'buscando', 'continúes', 'generando'...</td>\n",
              "      <td>21</td>\n",
              "    </tr>\n",
              "    <tr>\n",
              "      <th>86758</th>\n",
              "      <td>('completo', 'crédito', 'actual', 'necesidad')</td>\n",
              "      <td>21</td>\n",
              "    </tr>\n",
              "    <tr>\n",
              "      <th>76089</th>\n",
              "      <td>('conoce', 'número', 'extensión', 'márcalo', '...</td>\n",
              "      <td>21</td>\n",
              "    </tr>\n",
              "    <tr>\n",
              "      <th>92336</th>\n",
              "      <td>('llamo', 'área', 'crédito', 'resuelve')</td>\n",
              "      <td>21</td>\n",
              "    </tr>\n",
              "    <tr>\n",
              "      <th>75445</th>\n",
              "      <td>('Gracias', 'llamar', 'resuelve', 'deuda')</td>\n",
              "      <td>21</td>\n",
              "    </tr>\n",
              "  </tbody>\n",
              "</table>\n",
              "<p>79 rows × 2 columns</p>\n",
              "</div>"
            ],
            "text/plain": [
              "                                                   N-Gram  Count\n",
              "25284                      ('sé', 'si', 'alguna', 'duda')    109\n",
              "6234      ('Comisión', 'Nacional', 'bancaria', 'valores')     90\n",
              "1921    ('carátula', 'contrato', 'prestación', 'servic...     49\n",
              "28162       ('nombre', 'completo', 'fecha', 'nacimiento')     48\n",
              "110071   ('accidente', 'enfermedad', 'pérdida', 'empleo')     46\n",
              "110070  ('negocio', 'accidente', 'enfermedad', 'pérdida')     43\n",
              "8604                ('resuelve', 'deuda', 'Cómo', 'bien')     40\n",
              "110496  ('negocio', 'accidente', 'enfermedad', 'pérdid...     40\n",
              "125666           ('alguna', 'duda', 'alguna', 'pregunta')     40\n",
              "139766  ('accidente', 'enfermedad', 'pérdida', 'empleo...     39\n",
              "139255  ('enfermedad', 'pérdida', 'empleo', 'sobreende...     39\n",
              "86740   ('generando', 'historial', 'crediticio', 'posi...     38\n",
              "86768      ('capital', 'depositar', 'cuenta', 'bancaria')     36\n",
              "86756        ('parte', 'liquidar', 'completo', 'crédito')     36\n",
              "86965   ('resto', 'capital', 'depositar', 'cuenta', 'b...     34\n",
              "803                ('llamada', 'puede', 'ser', 'grabada')     34\n",
              "86767         ('resto', 'capital', 'depositar', 'cuenta')     34\n",
              "173363  ('quiebra', 'negocio', 'accidente', 'enfermedad')     33\n",
              "179104  ('negocio', 'accidente', 'enfermedad', 'pérdid...     33\n",
              "86769    ('depositar', 'cuenta', 'bancaria', 'dispongas')     31\n",
              "86953   ('tomaría', 'parte', 'liquidar', 'completo', '...     31\n",
              "86739   ('continúes', 'generando', 'historial', 'credi...     31\n",
              "86755        ('tomaría', 'parte', 'liquidar', 'completo')     31\n",
              "174245  ('quiebra', 'negocio', 'accidente', 'enfermeda...     30\n",
              "86736      ('resuelve', 'deuda', 'buscando', 'continúes')     30\n",
              "18365                ('voy', 'hacer', 'llegar', 'correo')     29\n",
              "87161   ('resto', 'capital', 'depositar', 'cuenta', 'b...     29\n",
              "86966   ('capital', 'depositar', 'cuenta', 'bancaria',...     29\n",
              "15931          ('voy', 'mandar', 'correo', 'electrónico')     28\n",
              "86757       ('liquidar', 'completo', 'crédito', 'actual')     28\n",
              "...                                                   ...    ...\n",
              "86737     ('deuda', 'buscando', 'continúes', 'generando')     24\n",
              "296135     ('resuelve', 'deuda', 'trabajo', 'realizamos')     24\n",
              "18366        ('hacer', 'llegar', 'correo', 'electrónico')     24\n",
              "809     ('Santander', 'momento', 'ejecutivos', 'encuen...     24\n",
              "25276                  ('Cómo', 'Muy', 'bien', 'gracias')     24\n",
              "746                   ('Banco', 'Santander', 'voz', 'Es')     23\n",
              "87132   ('buscando', 'continúes', 'generando', 'histor...     23\n",
              "86934   ('resuelve', 'deuda', 'buscando', 'continúes',...     23\n",
              "807         ('Gracias', 'llamar', 'Santander', 'momento')     23\n",
              "808      ('llamar', 'Santander', 'momento', 'ejecutivos')     23\n",
              "87149   ('tomaría', 'parte', 'liquidar', 'completo', '...     23\n",
              "814       ('continúan', 'ocupados', 'cuanto', 'desocupe')     22\n",
              "54674              ('usted', 'puede', 'dejar', 'mensaje')     22\n",
              "25274                ('resuelve', 'deuda', 'Cómo', 'Muy')     22\n",
              "87890           ('crédito', 'tomaste', 'Eso', 'correcto')     22\n",
              "20097   ('voy', 'hacer', 'llegar', 'correo', 'electrón...     22\n",
              "86935   ('deuda', 'buscando', 'continúes', 'generando'...     22\n",
              "25474        ('resuelve', 'deuda', 'Cómo', 'Muy', 'bien')     22\n",
              "87130   ('resuelve', 'deuda', 'buscando', 'continúes',...     22\n",
              "25275                    ('deuda', 'Cómo', 'Muy', 'bien')     22\n",
              "125665                 ('si', 'alguna', 'duda', 'alguna')     21\n",
              "94763         ('últimos', 'dígitos', 'límite', 'crédito')     21\n",
              "1242    ('llamar', 'Santander', 'momento', 'ejecutivos...     21\n",
              "1241    ('Gracias', 'llamar', 'Santander', 'momento', ...     21\n",
              "76080        ('conoce', 'número', 'extensión', 'márcalo')     21\n",
              "87131   ('deuda', 'buscando', 'continúes', 'generando'...     21\n",
              "86758      ('completo', 'crédito', 'actual', 'necesidad')     21\n",
              "76089   ('conoce', 'número', 'extensión', 'márcalo', '...     21\n",
              "92336            ('llamo', 'área', 'crédito', 'resuelve')     21\n",
              "75445          ('Gracias', 'llamar', 'resuelve', 'deuda')     21\n",
              "\n",
              "[79 rows x 2 columns]"
            ]
          },
          "metadata": {
            "tags": []
          },
          "execution_count": 283
        }
      ]
    },
    {
      "metadata": {
        "id": "R7kjGFMO-CAv",
        "colab_type": "code",
        "colab": {}
      },
      "cell_type": "code",
      "source": [
        ""
      ],
      "execution_count": 0,
      "outputs": []
    },
    {
      "metadata": {
        "id": "h3OuKNS7_oMx",
        "colab_type": "code",
        "colab": {}
      },
      "cell_type": "code",
      "source": [
        ""
      ],
      "execution_count": 0,
      "outputs": []
    }
  ]
}