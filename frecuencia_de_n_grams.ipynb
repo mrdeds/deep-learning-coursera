{
  "nbformat": 4,
  "nbformat_minor": 0,
  "metadata": {
    "colab": {
      "name": "frecuencia de n-grams.ipynb",
      "version": "0.3.2",
      "provenance": [],
      "collapsed_sections": []
    },
    "kernelspec": {
      "name": "python3",
      "display_name": "Python 3"
    },
    "accelerator": "GPU"
  },
  "cells": [
    {
      "cell_type": "markdown",
      "metadata": {
        "id": "view-in-github",
        "colab_type": "text"
      },
      "source": [
        "[View in Colaboratory](https://colab.research.google.com/github/mrdeds/deep-learning-coursera/blob/master/frecuencia_de_n_grams.ipynb)"
      ]
    },
    {
      "metadata": {
        "id": "po_Wd7uRtYfo",
        "colab_type": "code",
        "colab": {
          "base_uri": "https://localhost:8080/",
          "height": 51
        },
        "outputId": "65a9571d-3902-4c8e-fab1-608ee541e525"
      },
      "cell_type": "code",
      "source": [
        "!pip install psycopg2\n",
        "!pip install stop_words"
      ],
      "execution_count": 1,
      "outputs": [
        {
          "output_type": "stream",
          "text": [
            "Requirement already satisfied: psycopg2 in /usr/local/lib/python3.6/dist-packages (2.7.4)\n",
            "Requirement already satisfied: stop_words in /usr/local/lib/python3.6/dist-packages (2015.2.23.1)\n"
          ],
          "name": "stdout"
        }
      ]
    },
    {
      "metadata": {
        "id": "aEBc4YqUtk7b",
        "colab_type": "code",
        "colab": {
          "base_uri": "https://localhost:8080/",
          "height": 71
        },
        "outputId": "b368603e-6136-449e-bacc-f778ac701734"
      },
      "cell_type": "code",
      "source": [
        "import psycopg2\n",
        "import pandas as pd\n",
        "import json\n",
        "from nltk import everygrams, FreqDist\n",
        "from nltk.tokenize import RegexpTokenizer\n",
        "import numpy as np"
      ],
      "execution_count": 2,
      "outputs": [
        {
          "output_type": "stream",
          "text": [
            "/usr/local/lib/python3.6/dist-packages/psycopg2/__init__.py:144: UserWarning: The psycopg2 wheel package will be renamed from release 2.8; in order to keep installing from binary please use \"pip install psycopg2-binary\" instead. For details see: <http://initd.org/psycopg/docs/install.html#binary-install-from-pypi>.\n",
            "  \"\"\")\n"
          ],
          "name": "stderr"
        }
      ]
    },
    {
      "metadata": {
        "id": "fNeCfSjFWNpP",
        "colab_type": "code",
        "colab": {
          "resources": {
            "http://localhost:8080/nbextensions/google.colab/files.js": {
              "data": "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",
              "ok": true,
              "headers": [
                [
                  "content-type",
                  "application/javascript"
                ]
              ],
              "status": 200,
              "status_text": ""
            }
          },
          "base_uri": "https://localhost:8080/",
          "height": 86
        },
        "outputId": "0ae2c464-e2d5-4300-c871-82068cadc3af"
      },
      "cell_type": "code",
      "source": [
        "from google.colab import files\n",
        "\n",
        "uploaded = files.upload()\n",
        "\n",
        "for fn in uploaded.keys():\n",
        "  print('User uploaded file \"{name}\" with length {length} bytes'.format(\n",
        "      name=fn, length=len(uploaded[fn])))"
      ],
      "execution_count": 3,
      "outputs": [
        {
          "output_type": "display_data",
          "data": {
            "text/html": [
              "\n",
              "     <input type=\"file\" id=\"files-72f617a2-a908-406c-b6e1-fd5fe904e1fe\" name=\"files[]\" multiple disabled />\n",
              "     <output id=\"result-72f617a2-a908-406c-b6e1-fd5fe904e1fe\">\n",
              "      Upload widget is only available when the cell has been executed in the\n",
              "      current browser session. Please rerun this cell to enable.\n",
              "      </output>\n",
              "      <script src=\"/nbextensions/google.colab/files.js\"></script> "
            ],
            "text/plain": [
              "<IPython.core.display.HTML object>"
            ]
          },
          "metadata": {
            "tags": []
          }
        },
        {
          "output_type": "stream",
          "text": [
            "Saving creds_data.json to creds_data (1).json\n",
            "User uploaded file \"creds_data.json\" with length 273 bytes\n"
          ],
          "name": "stdout"
        }
      ]
    },
    {
      "metadata": {
        "id": "6wA01xSGYqz4",
        "colab_type": "code",
        "colab": {}
      },
      "cell_type": "code",
      "source": [
        "creds = uploaded.get('creds_data.json')\n",
        "dic_creds = json.loads(creds.decode())"
      ],
      "execution_count": 0,
      "outputs": []
    },
    {
      "metadata": {
        "id": "eUJsHD1tuuIO",
        "colab_type": "code",
        "colab": {}
      },
      "cell_type": "code",
      "source": [
        "host_check=fn\n",
        "\n",
        "host_wh=dic_creds.get('host_wh')\n",
        "port_wh=dic_creds.get('port_wh')\n",
        "user_wh=dic_creds.get('user_wh')\n",
        "password_wh=dic_creds.get('password_wh')\n",
        "database_wh=dic_creds.get('database_wh')\n",
        "\n",
        "host_l=dic_creds.get('host_l')\n",
        "port_l=dic_creds.get('port_l')\n",
        "user_l=dic_creds.get('user_l')\n",
        "password_l=dic_creds.get('password_l')\n",
        "database_l=dic_creds.get('database_l')"
      ],
      "execution_count": 0,
      "outputs": []
    },
    {
      "metadata": {
        "id": "cywEOa4Ow5VI",
        "colab_type": "code",
        "colab": {}
      },
      "cell_type": "code",
      "source": [
        "def sql_to_dataframe(query, base='wh'):\n",
        "  if base=='wh':\n",
        "    conn = psycopg2.connect(host=host_wh, port=port_wh, user=user_wh, password=password_wh, database=database_wh,)\n",
        "  elif base=='llamadas':\n",
        "    conn = psycopg2.connect(host=host_l, port=port_l, user=user_l, password=password_l, database=database_l,)\n",
        "  try:\n",
        "    cursor = conn.cursor()\n",
        "    cursor.execute(query)\n",
        "    DataSQL = cursor.fetchall() # careful, the results could be huge\n",
        "    conn.commit()\n",
        "  finally:\n",
        "    conn.close()\n",
        "  \n",
        "  colnames = [desc[0] for desc in cursor.description]\n",
        "  DF = pd.DataFrame(DataSQL) # Ponemos datos en DataFrame\n",
        "  DF.columns = colnames # Asignamos nombres a las columnas\n",
        "  \n",
        "  return DF"
      ],
      "execution_count": 0,
      "outputs": []
    },
    {
      "metadata": {
        "id": "6vL07p62I9jB",
        "colab_type": "code",
        "colab": {}
      },
      "cell_type": "code",
      "source": [
        "query = \"SELECT rh.id AS \\\"ID RH\\\",\\\n",
        "    rh.name AS \\\"Nombre del RH\\\",\\\n",
        "    rh.numeroextension__c AS \\\"Número de extensión\\\",\\\n",
        "    RIGHT(lead.phone,8) AS \\\"phone\\\",\\\n",
        "    lead.id AS \\\"ID Lead\\\",\\\n",
        "    lead.rating as \\\"Calificación\\\"\\\n",
        "    FROM rh_all_recursoshumanos__c AS rh\\\n",
        "    JOIN salesforce_lead AS lead ON rh.ID=lead.vendedorasignado__c\\\n",
        "    WHERE rh.name not in ('Agente de Preventa','ARD Virtual') and phone not in ('','None')\\\n",
        "    GROUP BY rh.name, rh.id, lead.phone, rh.numeroextension__c, lead.id, lead.rating\\\n",
        "    ORDER BY rh.id ASC,\\\n",
        "    rh.numeroextension__c ASC\"\n",
        "\n",
        "salesforce_DF = sql_to_dataframe(query)"
      ],
      "execution_count": 0,
      "outputs": []
    },
    {
      "metadata": {
        "id": "AHEwPNyIK7cp",
        "colab_type": "code",
        "colab": {
          "base_uri": "https://localhost:8080/",
          "height": 34
        },
        "outputId": "462c5788-c753-4b10-f24f-ce5c3255c0f2"
      },
      "cell_type": "code",
      "source": [
        "salesforce_DF.head(10)\n",
        "len(salesforce_DF)"
      ],
      "execution_count": 8,
      "outputs": [
        {
          "output_type": "execute_result",
          "data": {
            "text/plain": [
              "221371"
            ]
          },
          "metadata": {
            "tags": []
          },
          "execution_count": 8
        }
      ]
    },
    {
      "metadata": {
        "id": "8ua88aBddDSE",
        "colab_type": "code",
        "colab": {
          "base_uri": "https://localhost:8080/",
          "height": 34
        },
        "outputId": "f49fffe0-cfbf-4fa4-87f3-2cbb86206090"
      },
      "cell_type": "code",
      "source": [
        "type(salesforce_DF)"
      ],
      "execution_count": 9,
      "outputs": [
        {
          "output_type": "execute_result",
          "data": {
            "text/plain": [
              "pandas.core.frame.DataFrame"
            ]
          },
          "metadata": {
            "tags": []
          },
          "execution_count": 9
        }
      ]
    },
    {
      "metadata": {
        "id": "hejWqiOlJryb",
        "colab_type": "code",
        "colab": {}
      },
      "cell_type": "code",
      "source": [
        "query = \"SELECT rh.id AS \\\"ID RH\\\",\\\n",
        "    rh.name AS \\\"Nombre del RH\\\",\\\n",
        "    rh.numeroextension__c AS \\\"Número de extensión\\\",\\\n",
        "    RIGHT(lead.mobilephone,8) AS \\\"phone\\\",\\\n",
        "    lead.id AS \\\"ID Lead\\\",\\\n",
        "    lead.rating as \\\"Calificación\\\"\\\n",
        "    FROM rh_all_recursoshumanos__c AS rh\\\n",
        "    JOIN salesforce_lead AS lead ON rh.ID=lead.vendedorasignado__c\\\n",
        "    WHERE rh.name not in ('Agente de Preventa','ARD Virtual') and phone not in ('','None')\\\n",
        "    GROUP BY rh.name, rh.id, lead.mobilephone, rh.numeroextension__c, lead.id, lead.rating\\\n",
        "    ORDER BY rh.id ASC,\\\n",
        "    rh.numeroextension__c ASC\"\n",
        "\n",
        "salesforce_mobile_DF = sql_to_dataframe(query)"
      ],
      "execution_count": 0,
      "outputs": []
    },
    {
      "metadata": {
        "id": "U2eBzBleXwCh",
        "colab_type": "code",
        "colab": {
          "base_uri": "https://localhost:8080/",
          "height": 34
        },
        "outputId": "a348d53c-ff8c-43d5-cbd3-0a3bb1ffd10d"
      },
      "cell_type": "code",
      "source": [
        "len(salesforce_mobile_DF)"
      ],
      "execution_count": 0,
      "outputs": [
        {
          "output_type": "execute_result",
          "data": {
            "text/plain": [
              "221083"
            ]
          },
          "metadata": {
            "tags": []
          },
          "execution_count": 15
        }
      ]
    },
    {
      "metadata": {
        "id": "JxAbFJVwLeqT",
        "colab_type": "code",
        "colab": {}
      },
      "cell_type": "code",
      "source": [
        "query_llamadas = \"SELECT id as \\\"id de llamada\\\",\\\n",
        "texto,\\\n",
        "llama AS extension,\\\n",
        "RIGHT(recibe,8) as \\\"phone\\\" \\\n",
        "FROM llamadas \\\n",
        "where texto != '' \\\n",
        "GROUP BY id, texto, llama, recibe \\\n",
        "ORDER BY id asc, texto, llama, recibe\"\n",
        "\n",
        "llamadas_DF = sql_to_dataframe(query_llamadas, base=\"llamadas\")"
      ],
      "execution_count": 0,
      "outputs": []
    },
    {
      "metadata": {
        "id": "M1-fTVuCgEaM",
        "colab_type": "code",
        "colab": {
          "base_uri": "https://localhost:8080/",
          "height": 34
        },
        "outputId": "f800f932-e4eb-4507-d281-de083bfef4b1"
      },
      "cell_type": "code",
      "source": [
        "llamadas_DF.head(10)\n",
        "len(llamadas_DF.index)"
      ],
      "execution_count": 0,
      "outputs": [
        {
          "output_type": "execute_result",
          "data": {
            "text/plain": [
              "25932"
            ]
          },
          "metadata": {
            "tags": []
          },
          "execution_count": 32
        }
      ]
    },
    {
      "metadata": {
        "id": "m33uhnUNiFYy",
        "colab_type": "code",
        "colab": {}
      },
      "cell_type": "code",
      "source": [
        "DF_fijo = pd.merge(salesforce_DF,llamadas_DF, on='phone')"
      ],
      "execution_count": 0,
      "outputs": []
    },
    {
      "metadata": {
        "id": "J8HesZNRLy4c",
        "colab_type": "code",
        "colab": {}
      },
      "cell_type": "code",
      "source": [
        "DF_mobile = pd.merge(salesforce_mobile_DF, llamadas_DF, on='phone')"
      ],
      "execution_count": 0,
      "outputs": []
    },
    {
      "metadata": {
        "id": "d24ecqYZMDcE",
        "colab_type": "code",
        "colab": {}
      },
      "cell_type": "code",
      "source": [
        "DF = pd.concat([DF_mobile, DF_fijo])"
      ],
      "execution_count": 0,
      "outputs": []
    },
    {
      "metadata": {
        "id": "WbeWzoAfXO0C",
        "colab_type": "code",
        "colab": {
          "base_uri": "https://localhost:8080/",
          "height": 34
        },
        "outputId": "e2bc8fd4-b30f-490b-f9b1-ccdcac450caa"
      },
      "cell_type": "code",
      "source": [
        "len(DF)"
      ],
      "execution_count": 0,
      "outputs": [
        {
          "output_type": "execute_result",
          "data": {
            "text/plain": [
              "11419"
            ]
          },
          "metadata": {
            "tags": []
          },
          "execution_count": 57
        }
      ]
    },
    {
      "metadata": {
        "id": "pXQXXLJZoQiD",
        "colab_type": "code",
        "colab": {}
      },
      "cell_type": "code",
      "source": [
        "Cerrados = DF.loc[DF['calificación'] == 'Cerrado']\n",
        "Cerrados_fijo = DF_fijo.loc[DF_fijo['calificación'] == 'Cerrado']\n",
        "Cerrados_mobile = DF_mobile.loc[DF_mobile['calificación'] == 'Cerrado']"
      ],
      "execution_count": 0,
      "outputs": []
    },
    {
      "metadata": {
        "id": "pUM4YH-uFRwy",
        "colab_type": "code",
        "colab": {
          "base_uri": "https://localhost:8080/",
          "height": 85
        },
        "outputId": "c96575e7-484d-4510-c324-b9b616dc063a"
      },
      "cell_type": "code",
      "source": [
        "ratio = len(Cerrados)/len(DF)\n",
        "ratio_fijo = len(Cerrados_fijo)/len(DF_fijo)\n",
        "ratio_mobile = len(Cerrados_mobile)/len(DF_mobile)\n",
        "\n",
        "print('ratio de cerrados a no cerrados total: {}'.format(ratio))\n",
        "print('ratio de cerrados a no cerrados fijo: {}'.format(ratio_fijo))\n",
        "print('ratio de cerrados a no cerrados mobile: {}'.format(ratio_mobile))\n",
        "print('leads totales:{}'.format(len(DF_mobile)))"
      ],
      "execution_count": 0,
      "outputs": [
        {
          "output_type": "stream",
          "text": [
            "ratio de cerrados a no cerrados total: 0.5387512041334618\n",
            "ratio de cerrados a no cerrados fijo: 0.5108079104706423\n",
            "ratio de cerrados a no cerrados mobile: 0.5759803921568627\n",
            "leads totales:4896\n"
          ],
          "name": "stdout"
        }
      ]
    },
    {
      "metadata": {
        "id": "6kWh9e_tLzz7",
        "colab_type": "code",
        "colab": {}
      },
      "cell_type": "code",
      "source": [
        "tokenizer = RegexpTokenizer('[A-zÀ-ÿ]\\w+')\n",
        "textos = DF[\"texto\"]\n",
        "DF[\"tokens\"] = DF[\"texto\"].apply(tokenizer.tokenize)"
      ],
      "execution_count": 0,
      "outputs": []
    },
    {
      "metadata": {
        "id": "pDMQMsYdMdU0",
        "colab_type": "code",
        "colab": {}
      },
      "cell_type": "code",
      "source": [
        "from stop_words import get_stop_words\n",
        "\n",
        "stop_words = get_stop_words('spanish')"
      ],
      "execution_count": 0,
      "outputs": []
    },
    {
      "metadata": {
        "id": "EM43sFGZ5TQ_",
        "colab_type": "code",
        "colab": {}
      },
      "cell_type": "code",
      "source": [
        "X_prev = DF['tokens'].values\n",
        "lista_frase_limpia = []\n",
        "lista_texto_limpio = []\n",
        "for lista in X_prev:\n",
        "    frase_limpia = [palabra for palabra in lista if palabra not in stop_words]\n",
        "    texto_limpio =  ' '.join(frase_limpia)\n",
        "    lista_frase_limpia.append(frase_limpia)\n",
        "\n",
        "    lista_texto_limpio.append(texto_limpio)\n",
        "\n",
        "DF['clean tokens'] = lista_texto_limpio\n",
        "DF['clean text'] = lista_frase_limpia\n"
      ],
      "execution_count": 0,
      "outputs": []
    },
    {
      "metadata": {
        "id": "50RrLXZhIpSG",
        "colab_type": "code",
        "colab": {}
      },
      "cell_type": "code",
      "source": [
        "lista_ngrams = []\n",
        "\n",
        "for textos in DF['clean text']:\n",
        "  ngrams = list(everygrams(textos, 3, 6))\n",
        "  lista_ngrams.append(ngrams)"
      ],
      "execution_count": 0,
      "outputs": []
    },
    {
      "metadata": {
        "id": "euXJVTsfT2k1",
        "colab_type": "code",
        "colab": {}
      },
      "cell_type": "code",
      "source": [
        "DF['ngrams'] = lista_ngrams"
      ],
      "execution_count": 0,
      "outputs": []
    },
    {
      "metadata": {
        "id": "WcETruKLcQT-",
        "colab_type": "code",
        "colab": {}
      },
      "cell_type": "code",
      "source": [
        "DF=DF.drop(DF[DF.ngrams.map(len) <= 2].index)"
      ],
      "execution_count": 0,
      "outputs": []
    },
    {
      "metadata": {
        "id": "d1A_RQLdYmQA",
        "colab_type": "code",
        "colab": {}
      },
      "cell_type": "code",
      "source": [
        "n_grams = DF[(DF.calificación == 'Cerrado') & (DF.ngrams != '[]')][\"ngrams\"]"
      ],
      "execution_count": 0,
      "outputs": []
    },
    {
      "metadata": {
        "id": "2zD9708xmrZi",
        "colab_type": "code",
        "colab": {}
      },
      "cell_type": "code",
      "source": [
        "todos_ngrams = [ngram for ngrams in lista_ngrams for ngram in ngrams]"
      ],
      "execution_count": 0,
      "outputs": []
    },
    {
      "metadata": {
        "id": "8FBV8gexpYsh",
        "colab_type": "code",
        "colab": {
          "base_uri": "https://localhost:8080/",
          "height": 34
        },
        "outputId": "a52a8d22-7ab9-453d-b4ab-9a670d4cdb57"
      },
      "cell_type": "code",
      "source": [
        "todos_ngrams[0]"
      ],
      "execution_count": 0,
      "outputs": [
        {
          "output_type": "execute_result",
          "data": {
            "text/plain": [
              "('Hola', 'buen', 'día')"
            ]
          },
          "metadata": {
            "tags": []
          },
          "execution_count": 255
        }
      ]
    },
    {
      "metadata": {
        "id": "7aNHJVGajlPT",
        "colab_type": "code",
        "colab": {}
      },
      "cell_type": "code",
      "source": [
        "from collections import Counter\n",
        "\n",
        "counter=Counter(todos_ngrams)\n",
        "\n",
        "kk=[list(counter.keys()),list(counter.values())]\n",
        "\n",
        "freq_ngrams = pd.DataFrame(np.array(kk).T, columns=['N-Gram','Count']).sort_values(by=['Count'] , ascending=False)"
      ],
      "execution_count": 0,
      "outputs": []
    },
    {
      "metadata": {
        "id": "2d6-86b1k6OF",
        "colab_type": "code",
        "colab": {
          "base_uri": "https://localhost:8080/",
          "height": 1969
        },
        "outputId": "76fccf56-6dd1-4ab9-99b5-3415af7202ce"
      },
      "cell_type": "code",
      "source": [
        "freq_ngrams"
      ],
      "execution_count": 0,
      "outputs": [
        {
          "output_type": "execute_result",
          "data": {
            "text/html": [
              "<div>\n",
              "<style scoped>\n",
              "    .dataframe tbody tr th:only-of-type {\n",
              "        vertical-align: middle;\n",
              "    }\n",
              "\n",
              "    .dataframe tbody tr th {\n",
              "        vertical-align: top;\n",
              "    }\n",
              "\n",
              "    .dataframe thead th {\n",
              "        text-align: right;\n",
              "    }\n",
              "</style>\n",
              "<table border=\"1\" class=\"dataframe\">\n",
              "  <thead>\n",
              "    <tr style=\"text-align: right;\">\n",
              "      <th></th>\n",
              "      <th>N-Gram</th>\n",
              "      <th>Count</th>\n",
              "    </tr>\n",
              "  </thead>\n",
              "  <tbody>\n",
              "    <tr>\n",
              "      <th>767</th>\n",
              "      <td>(Hola, buenas, tardes)</td>\n",
              "      <td>1054</td>\n",
              "    </tr>\n",
              "    <tr>\n",
              "      <th>47672</th>\n",
              "      <td>(segundo, Por, favor)</td>\n",
              "      <td>915</td>\n",
              "    </tr>\n",
              "    <tr>\n",
              "      <th>178660</th>\n",
              "      <td>(ayer, tocaba, hacer)</td>\n",
              "      <td>850</td>\n",
              "    </tr>\n",
              "    <tr>\n",
              "      <th>12590</th>\n",
              "      <td>(mensaje, después, tono)</td>\n",
              "      <td>743</td>\n",
              "    </tr>\n",
              "    <tr>\n",
              "      <th>33378</th>\n",
              "      <td>(bueno, bueno, bueno)</td>\n",
              "      <td>714</td>\n",
              "    </tr>\n",
              "    <tr>\n",
              "      <th>17672</th>\n",
              "      <td>(si, alguna, duda)</td>\n",
              "      <td>669</td>\n",
              "    </tr>\n",
              "    <tr>\n",
              "      <th>12587</th>\n",
              "      <td>(usted, puede, dejar)</td>\n",
              "      <td>608</td>\n",
              "    </tr>\n",
              "    <tr>\n",
              "      <th>12588</th>\n",
              "      <td>(puede, dejar, mensaje)</td>\n",
              "      <td>589</td>\n",
              "    </tr>\n",
              "    <tr>\n",
              "      <th>12598</th>\n",
              "      <td>(usted, puede, dejar, mensaje)</td>\n",
              "      <td>558</td>\n",
              "    </tr>\n",
              "    <tr>\n",
              "      <th>870</th>\n",
              "      <td>(resuelve, deuda, Cómo)</td>\n",
              "      <td>558</td>\n",
              "    </tr>\n",
              "    <tr>\n",
              "      <th>1830</th>\n",
              "      <td>(entonces, sé, si)</td>\n",
              "      <td>552</td>\n",
              "    </tr>\n",
              "    <tr>\n",
              "      <th>1749</th>\n",
              "      <td>(tal, Buenas, tardes)</td>\n",
              "      <td>543</td>\n",
              "    </tr>\n",
              "    <tr>\n",
              "      <th>26168</th>\n",
              "      <td>(Qué, tal, Buenas)</td>\n",
              "      <td>517</td>\n",
              "    </tr>\n",
              "    <tr>\n",
              "      <th>131462</th>\n",
              "      <td>(Sí, buenas, tardes)</td>\n",
              "      <td>515</td>\n",
              "    </tr>\n",
              "    <tr>\n",
              "      <th>12593</th>\n",
              "      <td>(marque, tecla, gato)</td>\n",
              "      <td>503</td>\n",
              "    </tr>\n",
              "    <tr>\n",
              "      <th>16729</th>\n",
              "      <td>(Hola, Qué, tal)</td>\n",
              "      <td>484</td>\n",
              "    </tr>\n",
              "    <tr>\n",
              "      <th>26275</th>\n",
              "      <td>(Qué, tal, Buenas, tardes)</td>\n",
              "      <td>479</td>\n",
              "    </tr>\n",
              "    <tr>\n",
              "      <th>5026</th>\n",
              "      <td>(empresa, resuelve, deuda)</td>\n",
              "      <td>478</td>\n",
              "    </tr>\n",
              "    <tr>\n",
              "      <th>12594</th>\n",
              "      <td>(tecla, gato, termine)</td>\n",
              "      <td>459</td>\n",
              "    </tr>\n",
              "    <tr>\n",
              "      <th>148147</th>\n",
              "      <td>(dame, segundo, Por)</td>\n",
              "      <td>456</td>\n",
              "    </tr>\n",
              "    <tr>\n",
              "      <th>148811</th>\n",
              "      <td>(dame, segundo, Por, favor)</td>\n",
              "      <td>456</td>\n",
              "    </tr>\n",
              "    <tr>\n",
              "      <th>12604</th>\n",
              "      <td>(marque, tecla, gato, termine)</td>\n",
              "      <td>454</td>\n",
              "    </tr>\n",
              "    <tr>\n",
              "      <th>31409</th>\n",
              "      <td>(todas, maneras, voy)</td>\n",
              "      <td>447</td>\n",
              "    </tr>\n",
              "    <tr>\n",
              "      <th>178653</th>\n",
              "      <td>(deuda, Buenas, tardes)</td>\n",
              "      <td>440</td>\n",
              "    </tr>\n",
              "    <tr>\n",
              "      <th>178725</th>\n",
              "      <td>(resuelve, deuda, Buenas, tardes)</td>\n",
              "      <td>438</td>\n",
              "    </tr>\n",
              "    <tr>\n",
              "      <th>178652</th>\n",
              "      <td>(resuelve, deuda, Buenas)</td>\n",
              "      <td>438</td>\n",
              "    </tr>\n",
              "    <tr>\n",
              "      <th>178516</th>\n",
              "      <td>(Permíteme, segundo, Por)</td>\n",
              "      <td>433</td>\n",
              "    </tr>\n",
              "    <tr>\n",
              "      <th>178572</th>\n",
              "      <td>(Permíteme, segundo, Por, favor)</td>\n",
              "      <td>433</td>\n",
              "    </tr>\n",
              "    <tr>\n",
              "      <th>146780</th>\n",
              "      <td>(día, hoy, parte)</td>\n",
              "      <td>432</td>\n",
              "    </tr>\n",
              "    <tr>\n",
              "      <th>177255</th>\n",
              "      <td>(pago, día, ayer)</td>\n",
              "      <td>432</td>\n",
              "    </tr>\n",
              "    <tr>\n",
              "      <th>...</th>\n",
              "      <td>...</td>\n",
              "      <td>...</td>\n",
              "    </tr>\n",
              "    <tr>\n",
              "      <th>1253163</th>\n",
              "      <td>(dibujar, botón, amarillo, flechita)</td>\n",
              "      <td>1</td>\n",
              "    </tr>\n",
              "    <tr>\n",
              "      <th>1253162</th>\n",
              "      <td>(puedes, dibujar, botón, amarillo)</td>\n",
              "      <td>1</td>\n",
              "    </tr>\n",
              "    <tr>\n",
              "      <th>1253161</th>\n",
              "      <td>(blanco, puedes, dibujar, botón)</td>\n",
              "      <td>1</td>\n",
              "    </tr>\n",
              "    <tr>\n",
              "      <th>1253160</th>\n",
              "      <td>(cuadro, blanco, puedes, dibujar)</td>\n",
              "      <td>1</td>\n",
              "    </tr>\n",
              "    <tr>\n",
              "      <th>1253181</th>\n",
              "      <td>(roja, dice, filmar, Dale)</td>\n",
              "      <td>1</td>\n",
              "    </tr>\n",
              "    <tr>\n",
              "      <th>1253183</th>\n",
              "      <td>(filmar, Dale, click, hoja)</td>\n",
              "      <td>1</td>\n",
              "    </tr>\n",
              "    <tr>\n",
              "      <th>1253206</th>\n",
              "      <td>(dibuja, firma, cuadrito, quieras)</td>\n",
              "      <td>1</td>\n",
              "    </tr>\n",
              "    <tr>\n",
              "      <th>1253184</th>\n",
              "      <td>(Dale, click, hoja, parte)</td>\n",
              "      <td>1</td>\n",
              "    </tr>\n",
              "    <tr>\n",
              "      <th>1253205</th>\n",
              "      <td>(firma, dibuja, firma, cuadrito)</td>\n",
              "      <td>1</td>\n",
              "    </tr>\n",
              "    <tr>\n",
              "      <th>1253204</th>\n",
              "      <td>(dibuja, firma, dibuja, firma)</td>\n",
              "      <td>1</td>\n",
              "    </tr>\n",
              "    <tr>\n",
              "      <th>1253203</th>\n",
              "      <td>(mouse, dibuja, firma, dibuja)</td>\n",
              "      <td>1</td>\n",
              "    </tr>\n",
              "    <tr>\n",
              "      <th>1253202</th>\n",
              "      <td>(dibujar, mouse, dibuja, firma)</td>\n",
              "      <td>1</td>\n",
              "    </tr>\n",
              "    <tr>\n",
              "      <th>1253201</th>\n",
              "      <td>(ahí, dibujar, mouse, dibuja)</td>\n",
              "      <td>1</td>\n",
              "    </tr>\n",
              "    <tr>\n",
              "      <th>1253200</th>\n",
              "      <td>(blanco, ahí, dibujar, mouse)</td>\n",
              "      <td>1</td>\n",
              "    </tr>\n",
              "    <tr>\n",
              "      <th>1253199</th>\n",
              "      <td>(cuadrito, blanco, ahí, dibujar)</td>\n",
              "      <td>1</td>\n",
              "    </tr>\n",
              "    <tr>\n",
              "      <th>1253198</th>\n",
              "      <td>(parte, cuadrito, blanco, ahí)</td>\n",
              "      <td>1</td>\n",
              "    </tr>\n",
              "    <tr>\n",
              "      <th>1253197</th>\n",
              "      <td>(cuadro, parte, cuadrito, blanco)</td>\n",
              "      <td>1</td>\n",
              "    </tr>\n",
              "    <tr>\n",
              "      <th>1253196</th>\n",
              "      <td>(ahí, cuadro, parte, cuadrito)</td>\n",
              "      <td>1</td>\n",
              "    </tr>\n",
              "    <tr>\n",
              "      <th>1253195</th>\n",
              "      <td>(Entonces, ahí, cuadro, parte)</td>\n",
              "      <td>1</td>\n",
              "    </tr>\n",
              "    <tr>\n",
              "      <th>1253194</th>\n",
              "      <td>(firmar, Entonces, ahí, cuadro)</td>\n",
              "      <td>1</td>\n",
              "    </tr>\n",
              "    <tr>\n",
              "      <th>1253193</th>\n",
              "      <td>(dice, firmar, Entonces, ahí)</td>\n",
              "      <td>1</td>\n",
              "    </tr>\n",
              "    <tr>\n",
              "      <th>1253192</th>\n",
              "      <td>(roja, dice, firmar, Entonces)</td>\n",
              "      <td>1</td>\n",
              "    </tr>\n",
              "    <tr>\n",
              "      <th>1253191</th>\n",
              "      <td>(ahí, botón, amarillo, flechita)</td>\n",
              "      <td>1</td>\n",
              "    </tr>\n",
              "    <tr>\n",
              "      <th>1253190</th>\n",
              "      <td>(firma, ahí, botón, amarillo)</td>\n",
              "      <td>1</td>\n",
              "    </tr>\n",
              "    <tr>\n",
              "      <th>1253189</th>\n",
              "      <td>(va, firma, ahí, botón)</td>\n",
              "      <td>1</td>\n",
              "    </tr>\n",
              "    <tr>\n",
              "      <th>1253188</th>\n",
              "      <td>(abajo, va, firma, ahí)</td>\n",
              "      <td>1</td>\n",
              "    </tr>\n",
              "    <tr>\n",
              "      <th>1253187</th>\n",
              "      <td>(parte, abajo, va, firma)</td>\n",
              "      <td>1</td>\n",
              "    </tr>\n",
              "    <tr>\n",
              "      <th>1253186</th>\n",
              "      <td>(hoja, parte, abajo, va)</td>\n",
              "      <td>1</td>\n",
              "    </tr>\n",
              "    <tr>\n",
              "      <th>1253185</th>\n",
              "      <td>(click, hoja, parte, abajo)</td>\n",
              "      <td>1</td>\n",
              "    </tr>\n",
              "    <tr>\n",
              "      <th>1576611</th>\n",
              "      <td>(No, aquí, vive, amable)</td>\n",
              "      <td>1</td>\n",
              "    </tr>\n",
              "  </tbody>\n",
              "</table>\n",
              "<p>1576612 rows × 2 columns</p>\n",
              "</div>"
            ],
            "text/plain": [
              "                                       N-Gram Count\n",
              "767                    (Hola, buenas, tardes)  1054\n",
              "47672                   (segundo, Por, favor)   915\n",
              "178660                  (ayer, tocaba, hacer)   850\n",
              "12590                (mensaje, después, tono)   743\n",
              "33378                   (bueno, bueno, bueno)   714\n",
              "17672                      (si, alguna, duda)   669\n",
              "12587                   (usted, puede, dejar)   608\n",
              "12588                 (puede, dejar, mensaje)   589\n",
              "12598          (usted, puede, dejar, mensaje)   558\n",
              "870                   (resuelve, deuda, Cómo)   558\n",
              "1830                       (entonces, sé, si)   552\n",
              "1749                    (tal, Buenas, tardes)   543\n",
              "26168                      (Qué, tal, Buenas)   517\n",
              "131462                   (Sí, buenas, tardes)   515\n",
              "12593                   (marque, tecla, gato)   503\n",
              "16729                        (Hola, Qué, tal)   484\n",
              "26275              (Qué, tal, Buenas, tardes)   479\n",
              "5026               (empresa, resuelve, deuda)   478\n",
              "12594                  (tecla, gato, termine)   459\n",
              "148147                   (dame, segundo, Por)   456\n",
              "148811            (dame, segundo, Por, favor)   456\n",
              "12604          (marque, tecla, gato, termine)   454\n",
              "31409                   (todas, maneras, voy)   447\n",
              "178653                (deuda, Buenas, tardes)   440\n",
              "178725      (resuelve, deuda, Buenas, tardes)   438\n",
              "178652              (resuelve, deuda, Buenas)   438\n",
              "178516              (Permíteme, segundo, Por)   433\n",
              "178572       (Permíteme, segundo, Por, favor)   433\n",
              "146780                      (día, hoy, parte)   432\n",
              "177255                      (pago, día, ayer)   432\n",
              "...                                       ...   ...\n",
              "1253163  (dibujar, botón, amarillo, flechita)     1\n",
              "1253162    (puedes, dibujar, botón, amarillo)     1\n",
              "1253161      (blanco, puedes, dibujar, botón)     1\n",
              "1253160     (cuadro, blanco, puedes, dibujar)     1\n",
              "1253181            (roja, dice, filmar, Dale)     1\n",
              "1253183           (filmar, Dale, click, hoja)     1\n",
              "1253206    (dibuja, firma, cuadrito, quieras)     1\n",
              "1253184            (Dale, click, hoja, parte)     1\n",
              "1253205      (firma, dibuja, firma, cuadrito)     1\n",
              "1253204        (dibuja, firma, dibuja, firma)     1\n",
              "1253203        (mouse, dibuja, firma, dibuja)     1\n",
              "1253202       (dibujar, mouse, dibuja, firma)     1\n",
              "1253201         (ahí, dibujar, mouse, dibuja)     1\n",
              "1253200         (blanco, ahí, dibujar, mouse)     1\n",
              "1253199      (cuadrito, blanco, ahí, dibujar)     1\n",
              "1253198        (parte, cuadrito, blanco, ahí)     1\n",
              "1253197     (cuadro, parte, cuadrito, blanco)     1\n",
              "1253196        (ahí, cuadro, parte, cuadrito)     1\n",
              "1253195        (Entonces, ahí, cuadro, parte)     1\n",
              "1253194       (firmar, Entonces, ahí, cuadro)     1\n",
              "1253193         (dice, firmar, Entonces, ahí)     1\n",
              "1253192        (roja, dice, firmar, Entonces)     1\n",
              "1253191      (ahí, botón, amarillo, flechita)     1\n",
              "1253190         (firma, ahí, botón, amarillo)     1\n",
              "1253189               (va, firma, ahí, botón)     1\n",
              "1253188               (abajo, va, firma, ahí)     1\n",
              "1253187             (parte, abajo, va, firma)     1\n",
              "1253186              (hoja, parte, abajo, va)     1\n",
              "1253185           (click, hoja, parte, abajo)     1\n",
              "1576611              (No, aquí, vive, amable)     1\n",
              "\n",
              "[1576612 rows x 2 columns]"
            ]
          },
          "metadata": {
            "tags": []
          },
          "execution_count": 261
        }
      ]
    },
    {
      "metadata": {
        "id": "4BmWvPuZtHPf",
        "colab_type": "code",
        "colab": {}
      },
      "cell_type": "code",
      "source": [
        ""
      ],
      "execution_count": 0,
      "outputs": []
    }
  ]
}